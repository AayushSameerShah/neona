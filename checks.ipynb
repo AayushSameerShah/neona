{
 "cells": [
  {
   "cell_type": "code",
   "execution_count": 84,
   "metadata": {},
   "outputs": [],
   "source": [
    "import importlib\n",
    "import pandas as pd\n",
    "import seaborn as sns\n",
    "import numpy as np\n",
    "import matplotlib.pyplot as plt\n",
    "\n",
    "tips = sns.load_dataset('tips')\n",
    "plt.style.use('dark_background')"
   ]
  },
  {
   "cell_type": "code",
   "execution_count": 567,
   "metadata": {},
   "outputs": [],
   "source": [
    "colors = [\"#59ffc5\", \"#19ffaf\", \"#19ffaf\", \"#00eaff\", \"#ffed4f\", \"#f67dff\", \"#ff59db\", \"#ff59db\", \"#fffba6\"]"
   ]
  },
  {
   "cell_type": "code",
   "execution_count": 579,
   "metadata": {},
   "outputs": [
    {
     "data": {
      "text/plain": [
       "<module 'neona' from 'C:\\\\Users\\\\GIGABYTE\\\\Desktop\\\\3 Month Course\\\\PRACTICE\\\\Neona-project\\\\neona.py'>"
      ]
     },
     "execution_count": 579,
     "metadata": {},
     "output_type": "execute_result"
    }
   ],
   "source": [
    "import neona\n",
    "importlib.reload(neona)"
   ]
  },
  {
   "cell_type": "markdown",
   "metadata": {},
   "source": [
    "# "
   ]
  },
  {
   "cell_type": "markdown",
   "metadata": {},
   "source": [
    "# BAR"
   ]
  },
  {
   "cell_type": "code",
   "execution_count": 512,
   "metadata": {},
   "outputs": [],
   "source": [
    "def plot_configure(spines_yn= True, grid_kws= {}, figsize= None):\n",
    "    fig, ax = plt.subplots(figsize= figsize)\n",
    "    for spine in ['left', 'right', 'top', 'bottom']:\n",
    "        ax.spines[spine].set_visible(spines_yn)\n",
    "    return fig, ax"
   ]
  },
  {
   "cell_type": "code",
   "execution_count": 513,
   "metadata": {},
   "outputs": [],
   "source": [
    "def get_point(fig, point_size):\n",
    "    fig_width_x_height = fig.get_figwidth() * fig.get_figheight()\n",
    "    \n",
    "    point_size *= 1_000\n",
    "    patch_size = (point_size * fig_width_x_height) // 150\n",
    "    decrease = (500 * patch_size) // 10_000\n",
    "    point = (50 * patch_size) // 10_000\n",
    "\n",
    "    size = np.arange(patch_size, 0, -decrease); gap = len(size)\n",
    "    alpha = np.linspace(.05, .5, gap) ** 3\n",
    "    return size, alpha, point"
   ]
  },
  {
   "cell_type": "code",
   "execution_count": 514,
   "metadata": {},
   "outputs": [],
   "source": [
    "def get_lw():\n",
    "    a= np.arange(15, -1, -4); gap = len(a)\n",
    "    b= np.arange(0, 1, (1/gap)-.1)\n",
    "    return a, b"
   ]
  },
  {
   "cell_type": "code",
   "execution_count": 576,
   "metadata": {},
   "outputs": [],
   "source": [
    "def barplot(x, y, spines= True, figsize= None, point_size= 2, color= \"#59ffc5\", point_marker= 'o', font_dict= dict(), font_offset_xy= (0, 0), show_values= True):\n",
    "    fig, ax = plot_configure(spines_yn= spines, figsize= figsize)\n",
    "    sizes, alphas, point = get_point(fig, point_size)\n",
    "    a, b = get_lw()\n",
    "    \n",
    "    for xi, yi in zip(x, y):\n",
    "        for width, alpha in zip(a, b):\n",
    "            ax.plot([xi, xi], [0, yi], lw= width, alpha= alpha, color= color)\n",
    "        ax.plot([xi, xi], [0, yi], lw= 1, alpha= 1, color= color)\n",
    "        \n",
    "        for size, alpha in zip(sizes, alphas):\n",
    "            ax.scatter(xi, yi, s= size, alpha= alpha, color= color, marker= point_marker)\n",
    "        ax.scatter(xi, yi, s= point, alpha= 1, color= color, marker= point_marker)\n",
    "        \n",
    "    if show_values:\n",
    "        x = plt.xticks()[0]\n",
    "        for xi, yi in zip(x, y):\n",
    "            ox, oy = font_offset_xy\n",
    "            ax.text(xi + ox, yi + oy, str(yi), **font_dict)\n",
    "            \n",
    "    return ax"
   ]
  },
  {
   "cell_type": "markdown",
   "metadata": {},
   "source": [
    "# "
   ]
  },
  {
   "cell_type": "markdown",
   "metadata": {},
   "source": [
    "# LINE"
   ]
  }
 ],
 "metadata": {
  "kernelspec": {
   "display_name": "Python 3",
   "language": "python",
   "name": "python3"
  },
  "language_info": {
   "codemirror_mode": {
    "name": "ipython",
    "version": 3
   },
   "file_extension": ".py",
   "mimetype": "text/x-python",
   "name": "python",
   "nbconvert_exporter": "python",
   "pygments_lexer": "ipython3",
   "version": "3.8.5"
  }
 },
 "nbformat": 4,
 "nbformat_minor": 4
}
